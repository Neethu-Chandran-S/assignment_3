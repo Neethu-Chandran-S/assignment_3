{
 "cells": [
  {
   "cell_type": "markdown",
   "id": "c58c3669",
   "metadata": {},
   "source": [
    "# A) Assignment on Statistics"
   ]
  },
  {
   "cell_type": "code",
   "execution_count": 23,
   "id": "eb605c37",
   "metadata": {},
   "outputs": [],
   "source": [
    "import numpy as np\n",
    "import pandas as pd\n",
    "import matplotlib.pyplot as plt\n",
    "import seaborn as sns"
   ]
  },
  {
   "cell_type": "code",
   "execution_count": 24,
   "id": "0d036e7f",
   "metadata": {},
   "outputs": [],
   "source": [
    "data=pd.read_csv(r'C:\\dsa\\Students_Performance.csv')"
   ]
  },
  {
   "cell_type": "code",
   "execution_count": 71,
   "id": "523c315f",
   "metadata": {},
   "outputs": [
    {
     "data": {
      "text/html": [
       "<div>\n",
       "<style scoped>\n",
       "    .dataframe tbody tr th:only-of-type {\n",
       "        vertical-align: middle;\n",
       "    }\n",
       "\n",
       "    .dataframe tbody tr th {\n",
       "        vertical-align: top;\n",
       "    }\n",
       "\n",
       "    .dataframe thead th {\n",
       "        text-align: right;\n",
       "    }\n",
       "</style>\n",
       "<table border=\"1\" class=\"dataframe\">\n",
       "  <thead>\n",
       "    <tr style=\"text-align: right;\">\n",
       "      <th></th>\n",
       "      <th>gender</th>\n",
       "      <th>race/ethnicity</th>\n",
       "      <th>parental level of education</th>\n",
       "      <th>lunch</th>\n",
       "      <th>test preparation course</th>\n",
       "      <th>math score</th>\n",
       "      <th>reading score</th>\n",
       "      <th>writing score</th>\n",
       "    </tr>\n",
       "  </thead>\n",
       "  <tbody>\n",
       "    <tr>\n",
       "      <th>0</th>\n",
       "      <td>female</td>\n",
       "      <td>group C</td>\n",
       "      <td>some high school</td>\n",
       "      <td>free/reduced</td>\n",
       "      <td>none</td>\n",
       "      <td>0</td>\n",
       "      <td>17</td>\n",
       "      <td>10</td>\n",
       "    </tr>\n",
       "    <tr>\n",
       "      <th>1</th>\n",
       "      <td>female</td>\n",
       "      <td>group B</td>\n",
       "      <td>high school</td>\n",
       "      <td>free/reduced</td>\n",
       "      <td>none</td>\n",
       "      <td>8</td>\n",
       "      <td>24</td>\n",
       "      <td>23</td>\n",
       "    </tr>\n",
       "    <tr>\n",
       "      <th>2</th>\n",
       "      <td>female</td>\n",
       "      <td>group B</td>\n",
       "      <td>some high school</td>\n",
       "      <td>free/reduced</td>\n",
       "      <td>none</td>\n",
       "      <td>18</td>\n",
       "      <td>32</td>\n",
       "      <td>28</td>\n",
       "    </tr>\n",
       "    <tr>\n",
       "      <th>3</th>\n",
       "      <td>female</td>\n",
       "      <td>group B</td>\n",
       "      <td>some college</td>\n",
       "      <td>standard</td>\n",
       "      <td>none</td>\n",
       "      <td>11</td>\n",
       "      <td>38</td>\n",
       "      <td>32</td>\n",
       "    </tr>\n",
       "    <tr>\n",
       "      <th>4</th>\n",
       "      <td>female</td>\n",
       "      <td>group C</td>\n",
       "      <td>some college</td>\n",
       "      <td>free/reduced</td>\n",
       "      <td>none</td>\n",
       "      <td>22</td>\n",
       "      <td>39</td>\n",
       "      <td>33</td>\n",
       "    </tr>\n",
       "  </tbody>\n",
       "</table>\n",
       "</div>"
      ],
      "text/plain": [
       "   gender race/ethnicity parental level of education         lunch  \\\n",
       "0  female        group C            some high school  free/reduced   \n",
       "1  female        group B                 high school  free/reduced   \n",
       "2  female        group B            some high school  free/reduced   \n",
       "3  female        group B                some college      standard   \n",
       "4  female        group C                some college  free/reduced   \n",
       "\n",
       "  test preparation course  math score  reading score  writing score  \n",
       "0                    none           0             17             10  \n",
       "1                    none           8             24             23  \n",
       "2                    none          18             32             28  \n",
       "3                    none          11             38             32  \n",
       "4                    none          22             39             33  "
      ]
     },
     "execution_count": 71,
     "metadata": {},
     "output_type": "execute_result"
    }
   ],
   "source": [
    "data.head()"
   ]
  },
  {
   "cell_type": "markdown",
   "id": "b4a88ebc",
   "metadata": {},
   "source": [
    "# a)Number of Males & Females Participated in the test"
   ]
  },
  {
   "cell_type": "code",
   "execution_count": 72,
   "id": "8bac17d5",
   "metadata": {},
   "outputs": [
    {
     "name": "stdout",
     "output_type": "stream",
     "text": [
      "Males : 482\n",
      "Females : 518\n"
     ]
    }
   ],
   "source": [
    "print(f\"Males : {len(data[data['gender'] == 'male'])}\")\n",
    "print(f\"Females : {len(data[data['gender'] == 'female'])}\")"
   ]
  },
  {
   "cell_type": "code",
   "execution_count": null,
   "id": "4ce433cf",
   "metadata": {},
   "outputs": [],
   "source": []
  },
  {
   "cell_type": "markdown",
   "id": "d3bcf598",
   "metadata": {},
   "source": [
    "# b) About Student's Parentel level of Education"
   ]
  },
  {
   "cell_type": "code",
   "execution_count": 27,
   "id": "2e78197b",
   "metadata": {},
   "outputs": [
    {
     "data": {
      "text/plain": [
       "array(['some high school', 'high school', 'some college',\n",
       "       \"associate's degree\", \"bachelor's degree\", \"master's degree\"],\n",
       "      dtype=object)"
      ]
     },
     "execution_count": 27,
     "metadata": {},
     "output_type": "execute_result"
    }
   ],
   "source": [
    "data['parental level of education'].unique()"
   ]
  },
  {
   "cell_type": "code",
   "execution_count": 19,
   "id": "fd31914f",
   "metadata": {},
   "outputs": [
    {
     "data": {
      "text/plain": [
       "6"
      ]
     },
     "execution_count": 19,
     "metadata": {},
     "output_type": "execute_result"
    }
   ],
   "source": [
    "len(data['parental level of education'].unique())"
   ]
  },
  {
   "cell_type": "code",
   "execution_count": 22,
   "id": "13aefc40",
   "metadata": {},
   "outputs": [
    {
     "data": {
      "text/plain": [
       "some college          226\n",
       "associate's degree    222\n",
       "high school           196\n",
       "some high school      179\n",
       "bachelor's degree     118\n",
       "master's degree        59\n",
       "Name: parental level of education, dtype: int64"
      ]
     },
     "execution_count": 22,
     "metadata": {},
     "output_type": "execute_result"
    }
   ],
   "source": [
    "data['parental level of education'].value_counts()"
   ]
  },
  {
   "cell_type": "markdown",
   "id": "0daa6223",
   "metadata": {},
   "source": [
    "    ##Here parentel level  of education is 6 types.Number of Parents educated in, some college:226,\n",
    "associate's degree    :222\n",
    "high school           :196\n",
    "some high school      :179\n",
    "bachelor's degree     :118\n",
    "master's degree       :59"
   ]
  },
  {
   "cell_type": "markdown",
   "id": "7d139b4b",
   "metadata": {},
   "source": [
    "# c)Who scores the most on  average(based on gender)?"
   ]
  },
  {
   "cell_type": "markdown",
   "id": "9b0f23c2",
   "metadata": {},
   "source": [
    "# On math score"
   ]
  },
  {
   "cell_type": "code",
   "execution_count": 34,
   "id": "1622dc95",
   "metadata": {},
   "outputs": [
    {
     "data": {
      "text/plain": [
       "<Axes: xlabel='gender', ylabel='math score'>"
      ]
     },
     "execution_count": 34,
     "metadata": {},
     "output_type": "execute_result"
    },
    {
     "data": {
      "image/png": "[encoded data removed]",
      "text/plain": [
       "<Figure size 640x480 with 1 Axes>"
      ]
     },
     "metadata": {},
     "output_type": "display_data"
    }
   ],
   "source": [
    "sns.barplot(x='gender',y='math score',hue='gender',data=data)"
   ]
  },
  {
   "cell_type": "markdown",
   "id": "7b222247",
   "metadata": {},
   "source": [
    "# On reading score"
   ]
  },
  {
   "cell_type": "code",
   "execution_count": 35,
   "id": "e960bbc5",
   "metadata": {},
   "outputs": [
    {
     "data": {
      "text/plain": [
       "<Axes: xlabel='gender', ylabel='reading score'>"
      ]
     },
     "execution_count": 35,
     "metadata": {},
     "output_type": "execute_result"
    },
    {
     "data": {
      "image/png": "[encoded data removed]",
      "text/plain": [
       "<Figure size 640x480 with 1 Axes>"
      ]
     },
     "metadata": {},
     "output_type": "display_data"
    }
   ],
   "source": [
    "sns.barplot(x='gender',y='reading score',hue='gender',data=data)"
   ]
  },
  {
   "cell_type": "markdown",
   "id": "805d4759",
   "metadata": {},
   "source": [
    "# On writing score"
   ]
  },
  {
   "cell_type": "code",
   "execution_count": 36,
   "id": "4e5b62ac",
   "metadata": {},
   "outputs": [
    {
     "data": {
      "text/plain": [
       "<Axes: xlabel='gender', ylabel='writing score'>"
      ]
     },
     "execution_count": 36,
     "metadata": {},
     "output_type": "execute_result"
    },
    {
     "data": {
      "image/png": "[encoded data removed]",
      "text/plain": [
       "<Figure size 640x480 with 1 Axes>"
      ]
     },
     "metadata": {},
     "output_type": "display_data"
    }
   ],
   "source": [
    "sns.barplot(x='gender',y='writing score',hue='gender',data=data)"
   ]
  },
  {
   "cell_type": "markdown",
   "id": "41d59998",
   "metadata": {},
   "source": [
    "# Who scores the most on average(based on Test preparation course)?"
   ]
  },
  {
   "cell_type": "markdown",
   "id": "5284ea67",
   "metadata": {},
   "source": [
    "# On math score"
   ]
  },
  {
   "cell_type": "code",
   "execution_count": 37,
   "id": "94bd85d7",
   "metadata": {},
   "outputs": [
    {
     "data": {
      "text/plain": [
       "<Axes: xlabel='test preparation course', ylabel='math score'>"
      ]
     },
     "execution_count": 37,
     "metadata": {},
     "output_type": "execute_result"
    },
    {
     "data": {
      "image/png": "[encoded data removed]",
      "text/plain": [
       "<Figure size 640x480 with 1 Axes>"
      ]
     },
     "metadata": {},
     "output_type": "display_data"
    }
   ],
   "source": [
    "sns.barplot(x='test preparation course',y='math score',hue='test preparation course',data=data)"
   ]
  },
  {
   "cell_type": "markdown",
   "id": "95acbe5b",
   "metadata": {},
   "source": [
    "# On reading score"
   ]
  },
  {
   "cell_type": "code",
   "execution_count": 38,
   "id": "8d776c06",
   "metadata": {},
   "outputs": [
    {
     "data": {
      "text/plain": [
       "<Axes: xlabel='test preparation course', ylabel='reading score'>"
      ]
     },
     "execution_count": 38,
     "metadata": {},
     "output_type": "execute_result"
    },
    {
     "data": {
      "image/png": "[encoded data removed]",
      "text/plain": [
       "<Figure size 640x480 with 1 Axes>"
      ]
     },
     "metadata": {},
     "output_type": "display_data"
    }
   ],
   "source": [
    "sns.barplot(x='test preparation course',y='reading score',hue='test preparation course',data=data)"
   ]
  },
  {
   "cell_type": "markdown",
   "id": "9c50b043",
   "metadata": {},
   "source": [
    "# On writing score"
   ]
  },
  {
   "cell_type": "code",
   "execution_count": 39,
   "id": "771193c9",
   "metadata": {},
   "outputs": [
    {
     "data": {
      "text/plain": [
       "<Axes: xlabel='test preparation course', ylabel='writing score'>"
      ]
     },
     "execution_count": 39,
     "metadata": {},
     "output_type": "execute_result"
    },
    {
     "data": {
      "image/png": "[encoded data removed]",
      "text/plain": [
       "<Figure size 640x480 with 1 Axes>"
      ]
     },
     "metadata": {},
     "output_type": "display_data"
    }
   ],
   "source": [
    "sns.barplot(x='test preparation course',y='writing score',hue='test preparation course',data=data)"
   ]
  },
  {
   "cell_type": "markdown",
   "id": "25c4c1d3",
   "metadata": {},
   "source": [
    "# d)About scoring variation"
   ]
  },
  {
   "cell_type": "raw",
   "id": "a8eca1c8",
   "metadata": {},
   "source": [
    "##Based on gender, on math score:Males  scores the most on average\n",
    "##Based on gender, on reading score:Females  scores the most on average\n",
    "##Based on gender, on writing score:Females  scores the most on average\n",
    "##Based on test preparation course, on math score,reading and writing score:Peoples who completed the course  scores more than the others . \n"
   ]
  },
  {
   "cell_type": "markdown",
   "id": "9b11ee23",
   "metadata": {},
   "source": [
    "# e)Top 25% students on basis of their math score."
   ]
  },
  {
   "cell_type": "code",
   "execution_count": 43,
   "id": "c51f50a2",
   "metadata": {},
   "outputs": [
    {
     "data": {
      "text/plain": [
       "1           inf\n",
       "52     2.384615\n",
       "2      1.250000\n",
       "4      1.000000\n",
       "41     0.750000\n",
       "         ...   \n",
       "142    0.000000\n",
       "143    0.000000\n",
       "144    0.000000\n",
       "145    0.000000\n",
       "147    0.000000\n",
       "Name: math score, Length: 250, dtype: float64"
      ]
     },
     "execution_count": 43,
     "metadata": {},
     "output_type": "execute_result"
    }
   ],
   "source": [
    "data['math score'].pct_change().nlargest(250)"
   ]
  },
  {
   "cell_type": "markdown",
   "id": "f2a8f408",
   "metadata": {},
   "source": [
    "# B) Case Study on Testing of Hypothesis "
   ]
  },
  {
   "cell_type": "code",
   "execution_count": 46,
   "id": "8c0639c0",
   "metadata": {},
   "outputs": [],
   "source": [
    "import numpy as np\n",
    "import pandas as pd\n",
    "import matplotlib.pyplot as plt\n",
    "import seaborn as sns"
   ]
  },
  {
   "cell_type": "code",
   "execution_count": 47,
   "id": "40c85db4",
   "metadata": {},
   "outputs": [],
   "source": [
    "data1=pd.read_csv(r'C:\\dsa\\Sales_add.csv')"
   ]
  },
  {
   "cell_type": "code",
   "execution_count": 48,
   "id": "cc95c5b6",
   "metadata": {},
   "outputs": [
    {
     "data": {
      "text/html": [
       "<div>\n",
       "<style scoped>\n",
       "    .dataframe tbody tr th:only-of-type {\n",
       "        vertical-align: middle;\n",
       "    }\n",
       "\n",
       "    .dataframe tbody tr th {\n",
       "        vertical-align: top;\n",
       "    }\n",
       "\n",
       "    .dataframe thead th {\n",
       "        text-align: right;\n",
       "    }\n",
       "</style>\n",
       "<table border=\"1\" class=\"dataframe\">\n",
       "  <thead>\n",
       "    <tr style=\"text-align: right;\">\n",
       "      <th></th>\n",
       "      <th>Month</th>\n",
       "      <th>Region</th>\n",
       "      <th>Manager</th>\n",
       "      <th>Sales_before_digital_add(in $)</th>\n",
       "      <th>Sales_After_digital_add(in $)</th>\n",
       "    </tr>\n",
       "  </thead>\n",
       "  <tbody>\n",
       "    <tr>\n",
       "      <th>0</th>\n",
       "      <td>Month-1</td>\n",
       "      <td>Region - A</td>\n",
       "      <td>Manager - A</td>\n",
       "      <td>132921</td>\n",
       "      <td>270390</td>\n",
       "    </tr>\n",
       "    <tr>\n",
       "      <th>1</th>\n",
       "      <td>Month-2</td>\n",
       "      <td>Region - A</td>\n",
       "      <td>Manager - C</td>\n",
       "      <td>149559</td>\n",
       "      <td>223334</td>\n",
       "    </tr>\n",
       "    <tr>\n",
       "      <th>2</th>\n",
       "      <td>Month-3</td>\n",
       "      <td>Region - B</td>\n",
       "      <td>Manager - A</td>\n",
       "      <td>146278</td>\n",
       "      <td>244243</td>\n",
       "    </tr>\n",
       "    <tr>\n",
       "      <th>3</th>\n",
       "      <td>Month-4</td>\n",
       "      <td>Region - B</td>\n",
       "      <td>Manager - B</td>\n",
       "      <td>152167</td>\n",
       "      <td>231808</td>\n",
       "    </tr>\n",
       "    <tr>\n",
       "      <th>4</th>\n",
       "      <td>Month-5</td>\n",
       "      <td>Region - C</td>\n",
       "      <td>Manager - B</td>\n",
       "      <td>159525</td>\n",
       "      <td>258402</td>\n",
       "    </tr>\n",
       "  </tbody>\n",
       "</table>\n",
       "</div>"
      ],
      "text/plain": [
       "     Month      Region      Manager  Sales_before_digital_add(in $)  \\\n",
       "0  Month-1  Region - A  Manager - A                          132921   \n",
       "1  Month-2  Region - A  Manager - C                          149559   \n",
       "2  Month-3  Region - B  Manager - A                          146278   \n",
       "3  Month-4  Region - B  Manager - B                          152167   \n",
       "4  Month-5  Region - C  Manager - B                          159525   \n",
       "\n",
       "   Sales_After_digital_add(in $)  \n",
       "0                         270390  \n",
       "1                         223334  \n",
       "2                         244243  \n",
       "3                         231808  \n",
       "4                         258402  "
      ]
     },
     "execution_count": 48,
     "metadata": {},
     "output_type": "execute_result"
    }
   ],
   "source": [
    "data1.head()"
   ]
  },
  {
   "cell_type": "markdown",
   "id": "ea95a8a0",
   "metadata": {},
   "source": [
    "# a)clarify whether there is any increase in sales after stepping into digital marketing.\n"
   ]
  },
  {
   "cell_type": "code",
   "execution_count": 62,
   "id": "8034c078",
   "metadata": {},
   "outputs": [],
   "source": [
    "from scipy.stats import ttest_ind"
   ]
  },
  {
   "cell_type": "code",
   "execution_count": 53,
   "id": "7ba2f78c",
   "metadata": {},
   "outputs": [],
   "source": [
    "t_stat,p_value=ttest_ind(data1['Sales_before_digital_add(in $)'],data1['Sales_After_digital_add(in $)'])"
   ]
  },
  {
   "cell_type": "code",
   "execution_count": 54,
   "id": "6d5237f6",
   "metadata": {},
   "outputs": [
    {
     "data": {
      "text/plain": [
       "2.614368006904645e-16"
      ]
     },
     "execution_count": 54,
     "metadata": {},
     "output_type": "execute_result"
    }
   ],
   "source": [
    "p_value"
   ]
  },
  {
   "cell_type": "code",
   "execution_count": 56,
   "id": "9644f3b5",
   "metadata": {},
   "outputs": [
    {
     "name": "stdout",
     "output_type": "stream",
     "text": [
      "Reject Null Hypothesis\n"
     ]
    }
   ],
   "source": [
    "if p_value<0.05:\n",
    "    print('Reject Null Hypothesis')\n",
    "else:\n",
    "        print('Accept Null Hypothesis')"
   ]
  },
  {
   "cell_type": "raw",
   "id": "481d9c39",
   "metadata": {},
   "source": [
    "##Result shows that,there is  increase in sales after stepping into digital marketing."
   ]
  },
  {
   "cell_type": "markdown",
   "id": "47970a04",
   "metadata": {},
   "source": [
    "# b)Is there any dependency between the features “Region” and “Manager”?\n"
   ]
  },
  {
   "cell_type": "raw",
   "id": "87354fe1",
   "metadata": {},
   "source": [
    "##Test of independence in Chi square test"
   ]
  },
  {
   "cell_type": "code",
   "execution_count": 57,
   "id": "2b34c179",
   "metadata": {},
   "outputs": [],
   "source": [
    "from scipy.stats import chi2_contingency"
   ]
  },
  {
   "cell_type": "code",
   "execution_count": 66,
   "id": "f6b578ea",
   "metadata": {},
   "outputs": [
    {
     "name": "stdout",
     "output_type": "stream",
     "text": [
      "contingency_table :\n",
      " Manager     Manager - A  Manager - B  Manager - C\n",
      "Region                                           \n",
      "Region - A            4            3            3\n",
      "Region - B            4            1            2\n",
      "Region - C            1            3            1\n"
     ]
    }
   ],
   "source": [
    "ct_table=pd.crosstab(data1[\"Region\"],data1[\"Manager\"])\n",
    "print('contingency_table :\\n',ct_table)"
   ]
  },
  {
   "cell_type": "code",
   "execution_count": 67,
   "id": "fda30579",
   "metadata": {},
   "outputs": [],
   "source": [
    "chi2_stat, p_val, dof, expected = chi2_contingency(ct_table)"
   ]
  },
  {
   "cell_type": "code",
   "execution_count": 68,
   "id": "2673c8c5",
   "metadata": {},
   "outputs": [
    {
     "data": {
      "text/plain": [
       "0.5493991051158094"
      ]
     },
     "execution_count": 68,
     "metadata": {},
     "output_type": "execute_result"
    }
   ],
   "source": [
    "p_val"
   ]
  },
  {
   "cell_type": "code",
   "execution_count": 70,
   "id": "7cdf37d0",
   "metadata": {},
   "outputs": [
    {
     "name": "stdout",
     "output_type": "stream",
     "text": [
      "Accept Null Hypothesis\n"
     ]
    }
   ],
   "source": [
    "if p_val<0.05:\n",
    "    print('Reject Null Hypothesis')\n",
    "else:\n",
    "        print('Accept Null Hypothesis')"
   ]
  },
  {
   "cell_type": "raw",
   "id": "cfaab534",
   "metadata": {},
   "source": [
    "##Result shows that ,the variables have no relationship."
   ]
  }
 ],
 "metadata": {
  "kernelspec": {
   "display_name": "Python 3 (ipykernel)",
   "language": "python",
   "name": "python3"
  },
  "language_info": {
   "codemirror_mode": {
    "name": "ipython",
    "version": 3
   },
   "file_extension": ".py",
   "mimetype": "text/x-python",
   "name": "python",
   "nbconvert_exporter": "python",
   "pygments_lexer": "ipython3",
   "version": "3.11.4"
  }
 },
 "nbformat": 4,
 "nbformat_minor": 5
}
